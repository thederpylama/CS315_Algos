{
  "nbformat": 4,
  "nbformat_minor": 0,
  "metadata": {
    "colab": {
      "provenance": [],
      "authorship_tag": "ABX9TyMfaNefJUwitNw4XlgPwNJz",
      "include_colab_link": true
    },
    "kernelspec": {
      "name": "python3",
      "display_name": "Python 3"
    },
    "language_info": {
      "name": "python"
    }
  },
  "cells": [
    {
      "cell_type": "markdown",
      "metadata": {
        "id": "view-in-github",
        "colab_type": "text"
      },
      "source": [
        "<a href=\"https://colab.research.google.com/github/thederpylama/CS315_Algos/blob/main/BuiltIns.ipynb\" target=\"_parent\"><img src=\"https://colab.research.google.com/assets/colab-badge.svg\" alt=\"Open In Colab\"/></a>"
      ]
    },
    {
      "cell_type": "code",
      "execution_count": 2,
      "metadata": {
        "id": "8hpeHLLOF-j2"
      },
      "outputs": [],
      "source": [
        "import random\n",
        "import math\n",
        "import time"
      ]
    },
    {
      "cell_type": "code",
      "source": [
        "# Ratio test for .sort() on unsorted data\n",
        "for i in range(3, 7):\n",
        "  N=int(math.pow(10, i))\n",
        "  A = list(range(N))\n",
        "\n",
        "  random.shuffle(A)\n",
        "\n",
        "  # print(A)\n",
        "  start = time.time()\n",
        "  A.sort()\n",
        "  end = time.time()\n",
        "  ratio=(end-start)/(N*math.log(N,2))\n",
        "  print(N,end-start,ratio)\n",
        "  # print(A)"
      ],
      "metadata": {
        "id": "-2fcyKznGtSy",
        "colab": {
          "base_uri": "https://localhost:8080/"
        },
        "outputId": "2d7c76a9-d4ef-4938-e486-ea327e3661dc"
      },
      "execution_count": 11,
      "outputs": [
        {
          "output_type": "stream",
          "name": "stdout",
          "text": [
            "1000 0.00012612342834472656 1.2655645029246493e-08\n",
            "10000 0.0022475719451904297 1.6914664322879022e-08\n",
            "100000 0.025621891021728516 1.5425915486347867e-08\n",
            "1000000 0.6932239532470703 3.478020060668891e-08\n"
          ]
        }
      ]
    },
    {
      "cell_type": "code",
      "source": [
        "# Ratio test for sorted() on unsorted data\n",
        "for i in range(3, 7):\n",
        "  N=int(math.pow(10, i))\n",
        "  A = list(range(N))\n",
        "\n",
        "  random.shuffle(A)\n",
        "\n",
        "  # print(A)\n",
        "  start = time.time()\n",
        "  A = sorted(A)\n",
        "  end = time.time()\n",
        "  expec = N*math.log(N,2)\n",
        "  ratio=(end-start)/(expec)\n",
        "  print(N,end-start, expec, ratio)\n",
        "  # print(A)"
      ],
      "metadata": {
        "colab": {
          "base_uri": "https://localhost:8080/"
        },
        "id": "PLgJNaGIILl4",
        "outputId": "83d6133d-6105-4d82-ee9f-9f6381b2b024"
      },
      "execution_count": 5,
      "outputs": [
        {
          "output_type": "stream",
          "name": "stdout",
          "text": [
            "1000 0.00018143653869628906 9965.784284662088 1.820594681901055e-08\n",
            "10000 0.0020837783813476562 132877.1237954945 1.5681994927544566e-08\n",
            "100000 0.02858591079711914 1660964.0474436812 1.7210433206615455e-08\n",
            "1000000 0.5162076950073242 19931568.569324173 2.589900003162809e-08\n"
          ]
        }
      ]
    },
    {
      "cell_type": "code",
      "source": [
        "# Ratio test for .sort() on sorted data\n",
        "for i in range(3, 7):\n",
        "  N=int(math.pow(10, i))\n",
        "  A = list(range(N))\n",
        "\n",
        "  # random.shuffle(A)\n",
        "\n",
        "\n",
        "  start = time.time()\n",
        "  A.sort()\n",
        "  end = time.time()\n",
        "  ratio=(end-start)/(N*math.log(N,2))\n",
        "  print(N,end-start,ratio)\n",
        "  # print(A)"
      ],
      "metadata": {
        "id": "2wWYmXuAKLai",
        "colab": {
          "base_uri": "https://localhost:8080/"
        },
        "outputId": "03ad8dbf-cd62-4aa6-ef1d-147dedfa78e4"
      },
      "execution_count": 6,
      "outputs": [
        {
          "output_type": "stream",
          "name": "stdout",
          "text": [
            "1000 0.00026297569274902344 2.6387857215990323e-08\n",
            "10000 4.410743713378906e-05 3.3194154022834613e-10\n",
            "100000 0.0005545616149902344 3.338793611118413e-10\n",
            "1000000 0.008411407470703125 4.220143257389568e-10\n"
          ]
        }
      ]
    },
    {
      "cell_type": "code",
      "source": [
        "# Ratio test for sorted() on sorted data\n",
        "for i in range(3, 7):\n",
        "  N=int(math.pow(10, i))\n",
        "  A = list(range(N))\n",
        "\n",
        "  # random.shuffle(A)\n",
        "\n",
        "\n",
        "  start = time.time()\n",
        "  A = sorted(A)\n",
        "  end = time.time()\n",
        "  expec = N*math.log(N,2)\n",
        "  ratio=(end-start)/(expec)\n",
        "  print(N,end-start, expec, ratio)\n",
        "  # print(A)"
      ],
      "metadata": {
        "colab": {
          "base_uri": "https://localhost:8080/"
        },
        "id": "Qdwm0hpfKK0Y",
        "outputId": "4ac62ec3-ea2c-46b4-aa58-df45fe1572c3"
      },
      "execution_count": 7,
      "outputs": [
        {
          "output_type": "stream",
          "name": "stdout",
          "text": [
            "1000 0.0005977153778076172 9965.784284662088 5.997675252990729e-08\n",
            "10000 8.487701416015625e-05 132877.1237954945 6.387631801150877e-10\n",
            "100000 0.0010797977447509766 1660964.0474436812 6.501030208407263e-10\n",
            "1000000 0.019622802734375 19931568.569324173 9.845087036740107e-10\n"
          ]
        }
      ]
    },
    {
      "cell_type": "code",
      "source": [
        "# Both .sort() and sorted() seem to be O(n*lg(n)). When I tried running them with n^2 the ratios didn't converge as N went up. The same also happened when I tried O(lg(n)), and they did converge with n*lg(n), so it seems like both are O(n*lg(n))."
      ],
      "metadata": {
        "id": "q-0spSHkt-da"
      },
      "execution_count": null,
      "outputs": []
    }
  ]
}