{
  "nbformat": 4,
  "nbformat_minor": 0,
  "metadata": {
    "colab": {
      "provenance": [],
      "authorship_tag": "ABX9TyPVo3GCmfsWNdUsJRHsTr8o",
      "include_colab_link": true
    },
    "kernelspec": {
      "name": "python3",
      "display_name": "Python 3"
    },
    "language_info": {
      "name": "python"
    }
  },
  "cells": [
    {
      "cell_type": "markdown",
      "metadata": {
        "id": "view-in-github",
        "colab_type": "text"
      },
      "source": [
        "<a href=\"https://colab.research.google.com/github/krusegw/cs315/blob/main/MergesortPoC.ipynb\" target=\"_parent\"><img src=\"https://colab.research.google.com/assets/colab-badge.svg\" alt=\"Open In Colab\"/></a>"
      ]
    },
    {
      "cell_type": "code",
      "execution_count": 1,
      "metadata": {
        "id": "t_LwP80OmwFK"
      },
      "outputs": [],
      "source": [
        "# Template for testing Insertion-Sort on small lists, outputing each intermediate step"
      ]
    },
    {
      "cell_type": "code",
      "source": [
        "import random"
      ],
      "metadata": {
        "id": "LMcLd_etm-0Y"
      },
      "execution_count": 4,
      "outputs": []
    },
    {
      "cell_type": "code",
      "source": [
        "# Merge provided as a convenience\n",
        "\n",
        "def Merge(A,p,q,r):\n",
        "    nL = q-p+1\n",
        "    nR = r-q\n",
        "    Left = []\n",
        "    Right = []\n",
        "\n",
        "    for i in range(nL):\n",
        "        Left.append(A[p+i])\n",
        "    for j in range(nR):\n",
        "        Right.append(A[q+j+1])\n",
        "\n",
        "    i=0\n",
        "    j=0\n",
        "    k=p\n",
        "    while i<nL and j<nR:\n",
        "        if (Left[i]<=Right[j]):\n",
        "            A[k]=Left[i]\n",
        "            i+=1\n",
        "        else:\n",
        "            A[k]=Right[j]\n",
        "            j+=1\n",
        "        k+=1\n",
        "\n",
        "    while i< nL:\n",
        "        A[k]=Left[i]\n",
        "        i+=1\n",
        "        k+=1\n",
        "    while j< nR:\n",
        "        A[k]=Right[j]\n",
        "        j+=1\n",
        "        k+=1\n",
        "\n",
        "    return"
      ],
      "metadata": {
        "id": "TyWIYm1_nIYR"
      },
      "execution_count": 1,
      "outputs": []
    },
    {
      "cell_type": "code",
      "source": [
        "def Mergesort(A,p,r,print_flag):\n",
        "    if p >= r:\n",
        "        return\n",
        "    q = (p+r)//2\n",
        "\n",
        "    # Modify the following three calls:\n",
        "    Mergesort()\n",
        "    Mergesort()\n",
        "    Merge()\n",
        "\n",
        "    if print_flag:\n",
        "      print(A)\n",
        "    return"
      ],
      "metadata": {
        "id": "neX-YNcPnLpk"
      },
      "execution_count": 2,
      "outputs": []
    },
    {
      "cell_type": "code",
      "source": [
        "N=8\n",
        "A = list(range(N))\n",
        "\n",
        "random.shuffle(A)\n",
        "\n",
        "print(A)\n",
        "Mergesort(A,0,N-1,True)\n",
        "print(A)"
      ],
      "metadata": {
        "colab": {
          "base_uri": "https://localhost:8080/"
        },
        "id": "RVXFjLS0nCeo",
        "outputId": "bc479c6f-3156-4bff-a08e-737ef792a919"
      },
      "execution_count": 5,
      "outputs": [
        {
          "output_type": "stream",
          "name": "stdout",
          "text": [
            "[2, 3, 4, 0, 6, 5, 7, 1]\n",
            "[2, 3, 4, 0, 6, 5, 7, 1]\n",
            "[2, 3, 0, 4, 6, 5, 7, 1]\n",
            "[0, 2, 3, 4, 6, 5, 7, 1]\n",
            "[0, 2, 3, 4, 5, 6, 7, 1]\n",
            "[0, 2, 3, 4, 5, 6, 1, 7]\n",
            "[0, 2, 3, 4, 1, 5, 6, 7]\n",
            "[0, 1, 2, 3, 4, 5, 6, 7]\n",
            "[0, 1, 2, 3, 4, 5, 6, 7]\n"
          ]
        }
      ]
    }
  ]
}