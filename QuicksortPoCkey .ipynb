{
  "nbformat": 4,
  "nbformat_minor": 0,
  "metadata": {
    "colab": {
      "provenance": [],
      "authorship_tag": "ABX9TyM8jN4RuzRsqsxpZNFOR4NP",
      "include_colab_link": true
    },
    "kernelspec": {
      "name": "python3",
      "display_name": "Python 3"
    },
    "language_info": {
      "name": "python"
    }
  },
  "cells": [
    {
      "cell_type": "markdown",
      "metadata": {
        "id": "view-in-github",
        "colab_type": "text"
      },
      "source": [
        "<a href=\"https://colab.research.google.com/github/krusegw/cs315/blob/main/QuicksortPoCkey%20.ipynb\" target=\"_parent\"><img src=\"https://colab.research.google.com/assets/colab-badge.svg\" alt=\"Open In Colab\"/></a>"
      ]
    },
    {
      "cell_type": "code",
      "execution_count": 1,
      "metadata": {
        "id": "t_LwP80OmwFK"
      },
      "outputs": [],
      "source": [
        "# Template for testing Quick-Sort on small lists, outputing each intermediate step"
      ]
    },
    {
      "cell_type": "code",
      "source": [
        "import random"
      ],
      "metadata": {
        "id": "LMcLd_etm-0Y"
      },
      "execution_count": 2,
      "outputs": []
    },
    {
      "cell_type": "code",
      "source": [
        "# Partition provided as a convenience\n",
        "\n",
        "def Partition(A,p,r):\n",
        "    x = A[r]\n",
        "    i = p - 1\n",
        "    for j in range(p,r):\n",
        "        if ( A[j] <= x ):\n",
        "            i = i + 1\n",
        "            #swap A[i] <--> A[j]\n",
        "            temp=A[i]\n",
        "            A[i]=A[j]\n",
        "            A[j]=temp\n",
        "    #swap A[i+1] <--> A[r]\n",
        "    temp=A[i+1]\n",
        "    A[i+1]=A[r]\n",
        "    A[r]=temp\n",
        "\n",
        "    return i + 1"
      ],
      "metadata": {
        "id": "TyWIYm1_nIYR"
      },
      "execution_count": 3,
      "outputs": []
    },
    {
      "cell_type": "code",
      "source": [
        "def Quicksort(A,p,r,print_flag):\n",
        "    if p < r:\n",
        "        q  = Partition(A , p , r)\n",
        "        if print_flag:\n",
        "            print(A)\n",
        "        Quicksort(A , p , q-1,print_flag)\n",
        "        Quicksort(A , q+1 , r,print_flag)"
      ],
      "metadata": {
        "id": "neX-YNcPnLpk"
      },
      "execution_count": 8,
      "outputs": []
    },
    {
      "cell_type": "code",
      "source": [
        "N=8\n",
        "A = list(range(N))\n",
        "\n",
        "random.shuffle(A)\n",
        "\n",
        "print(A)\n",
        "Quicksort(A,0,N-1,True)\n",
        "print(A)"
      ],
      "metadata": {
        "colab": {
          "base_uri": "https://localhost:8080/"
        },
        "id": "RVXFjLS0nCeo",
        "outputId": "9d5f56a3-0028-4bf8-b821-e0df6334c126"
      },
      "execution_count": 11,
      "outputs": [
        {
          "output_type": "stream",
          "name": "stdout",
          "text": [
            "[4, 3, 0, 5, 7, 6, 2, 1]\n",
            "[0, 1, 4, 5, 7, 6, 2, 3]\n",
            "[0, 1, 2, 3, 7, 6, 4, 5]\n",
            "[0, 1, 2, 3, 4, 5, 7, 6]\n",
            "[0, 1, 2, 3, 4, 5, 6, 7]\n",
            "[0, 1, 2, 3, 4, 5, 6, 7]\n"
          ]
        }
      ]
    }
  ]
}