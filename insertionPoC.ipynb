{
  "nbformat": 4,
  "nbformat_minor": 0,
  "metadata": {
    "colab": {
      "provenance": [],
      "authorship_tag": "ABX9TyPGR0IEhmOMDQUmd9Kl2nvo",
      "include_colab_link": true
    },
    "kernelspec": {
      "name": "python3",
      "display_name": "Python 3"
    },
    "language_info": {
      "name": "python"
    }
  },
  "cells": [
    {
      "cell_type": "markdown",
      "metadata": {
        "id": "view-in-github",
        "colab_type": "text"
      },
      "source": [
        "<a href=\"https://colab.research.google.com/github/krusegw/cs315/blob/main/insertionPoC.ipynb\" target=\"_parent\"><img src=\"https://colab.research.google.com/assets/colab-badge.svg\" alt=\"Open In Colab\"/></a>"
      ]
    },
    {
      "cell_type": "code",
      "execution_count": 1,
      "metadata": {
        "id": "tZGwopH4Y7oL"
      },
      "outputs": [],
      "source": [
        "# Template for testing Insertion-Sort on small lists, outputing each intermediate step"
      ]
    },
    {
      "cell_type": "code",
      "source": [
        "import random"
      ],
      "metadata": {
        "id": "fSME9MywceAq"
      },
      "execution_count": 2,
      "outputs": []
    },
    {
      "cell_type": "code",
      "source": [
        "def insertion(A,print_flag):\n",
        "\n",
        "# For your convenience, here is the psuedocode from the textbook for Insertion-Sort\n",
        "# You can adapt it for this problem, there aren't many changes required\n",
        "# Note that N is defined in a different execution group and doesn't need to be a parameter\n",
        "# Also, it is nice to have a boolean flag controlling whether the intermediate result is printed\n",
        "# The psuedocode is written to be \"in-place,\" so the input list changes\n",
        "\n",
        "# Insertion-Sort(A,n)\n",
        "# for i=2 to n:\n",
        "#    key = A[i]\n",
        "# insert A[i] into sorted seq A[1]..A[i-1]\n",
        "#    j = i-1\n",
        "#    while j>0 and A[j]>key:\n",
        "#       A[j+1] = A[j]\n",
        "#       j = j-1\n",
        "#    A[j+1] = key"
      ],
      "metadata": {
        "id": "TJZL4jFQZhAp"
      },
      "execution_count": 3,
      "outputs": []
    },
    {
      "cell_type": "code",
      "source": [
        "N=8\n",
        "A = list(range(N))\n",
        "\n",
        "random.shuffle(A)\n",
        "\n",
        "print(A)\n",
        "insertion(A,True)\n",
        "print(A)"
      ],
      "metadata": {
        "colab": {
          "base_uri": "https://localhost:8080/"
        },
        "id": "f1GS3NjwZqmS",
        "outputId": "2d92956d-dace-4b73-b18f-a0ef72875ad8"
      },
      "execution_count": 7,
      "outputs": [
        {
          "output_type": "stream",
          "name": "stdout",
          "text": [
            "[7, 1, 2, 4, 3, 6, 5, 0]\n",
            "[1, 7, 2, 4, 3, 6, 5, 0]\n",
            "[1, 2, 7, 4, 3, 6, 5, 0]\n",
            "[1, 2, 4, 7, 3, 6, 5, 0]\n",
            "[1, 2, 3, 4, 7, 6, 5, 0]\n",
            "[1, 2, 3, 4, 6, 7, 5, 0]\n",
            "[1, 2, 3, 4, 5, 6, 7, 0]\n",
            "[0, 1, 2, 3, 4, 5, 6, 7]\n",
            "[0, 1, 2, 3, 4, 5, 6, 7]\n"
          ]
        }
      ]
    }
  ]
}