{
  "nbformat": 4,
  "nbformat_minor": 0,
  "metadata": {
    "colab": {
      "provenance": [],
      "include_colab_link": true
    },
    "kernelspec": {
      "name": "python3",
      "display_name": "Python 3"
    },
    "language_info": {
      "name": "python"
    }
  },
  "cells": [
    {
      "cell_type": "markdown",
      "metadata": {
        "id": "view-in-github",
        "colab_type": "text"
      },
      "source": [
        "<a href=\"https://colab.research.google.com/github/thederpylama/CS315_Algos/blob/main/insertionPoC.ipynb\" target=\"_parent\"><img src=\"https://colab.research.google.com/assets/colab-badge.svg\" alt=\"Open In Colab\"/></a>"
      ]
    },
    {
      "cell_type": "code",
      "execution_count": null,
      "metadata": {
        "id": "tZGwopH4Y7oL"
      },
      "outputs": [],
      "source": [
        "# Template for testing Insertion-Sort on small lists, outputing each intermediate step"
      ]
    },
    {
      "cell_type": "code",
      "source": [
        "import random\n",
        "import math\n",
        "import time"
      ],
      "metadata": {
        "id": "fSME9MywceAq"
      },
      "execution_count": 28,
      "outputs": []
    },
    {
      "cell_type": "code",
      "source": [
        "def insertion(A,print_flag):\n",
        "\n",
        "# For your convenience, here is the psuedocode from the textbook for Insertion-Sort\n",
        "# You can adapt it for this problem, there aren't many changes required\n",
        "# Note that N is defined in a different execution group and doesn't need to be a parameter\n",
        "# Also, it is nice to have a boolean flag controlling whether the intermediate result is printed\n",
        "# The psuedocode is written to be \"in-place,\" so the input list changes\n",
        "  for i in range(1, len(A)):\n",
        "      key = A[i]\n",
        "  # insert A[i] into sorted seq A[1]..A[i-1]\n",
        "      j = i-1\n",
        "      while j>=0 and A[j]>key:\n",
        "        A[j+1] = A[j]\n",
        "        j -= 1\n",
        "      A[j+1] = key"
      ],
      "metadata": {
        "id": "TJZL4jFQZhAp"
      },
      "execution_count": 33,
      "outputs": []
    },
    {
      "cell_type": "code",
      "source": [
        "N=8\n",
        "A = list(range(N))\n",
        "\n",
        "random.shuffle(A)\n",
        "\n",
        "print(A)\n",
        "insertion(A,True)\n",
        "\n",
        "print(A)"
      ],
      "metadata": {
        "colab": {
          "base_uri": "https://localhost:8080/"
        },
        "id": "f1GS3NjwZqmS",
        "outputId": "ee54f053-3c56-4ee1-ee7d-d44409acbce6"
      },
      "execution_count": 24,
      "outputs": [
        {
          "output_type": "stream",
          "name": "stdout",
          "text": [
            "[6, 2, 3, 7, 0, 1, 4, 5]\n",
            "[0, 1, 2, 3, 4, 5, 6, 7]\n"
          ]
        }
      ]
    },
    {
      "cell_type": "code",
      "source": [
        "for i in range(4, 12):\n",
        "  N = int(math.pow(2, i))\n",
        "  A = list(range(N))\n",
        "\n",
        "  random.shuffle(A)\n",
        "\n",
        "  print(A)\n",
        "  start = time.time()\n",
        "  insertion(A,False)\n",
        "  end = time.time()\n",
        "  ratio=(end-start)/(N*math.log(N,2))\n",
        "  print(N,end-start,ratio)\n",
        "  print(A)"
      ],
      "metadata": {
        "id": "uJRObTh_4xdj"
      },
      "execution_count": null,
      "outputs": []
    },
    {
      "cell_type": "code",
      "source": [
        "for i in range(4, 12):\n",
        "  N = int(math.pow(2, i))\n",
        "  A = list(range(N))\n",
        "\n",
        "  # random.shuffle(A)\n",
        "\n",
        "  print(A)\n",
        "  start = time.time()\n",
        "  insertion(A,False)\n",
        "  end = time.time()\n",
        "  ratio=(end-start)/(N*math.log(N,2))\n",
        "  print(N,end-start,ratio)\n",
        "  print(A)"
      ],
      "metadata": {
        "id": "t5spHRhZ_a2B"
      },
      "execution_count": null,
      "outputs": []
    }
  ]
}