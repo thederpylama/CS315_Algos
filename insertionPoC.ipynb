{
  "nbformat": 4,
  "nbformat_minor": 0,
  "metadata": {
    "colab": {
      "provenance": [],
      "include_colab_link": true
    },
    "kernelspec": {
      "name": "python3",
      "display_name": "Python 3"
    },
    "language_info": {
      "name": "python"
    }
  },
  "cells": [
    {
      "cell_type": "markdown",
      "metadata": {
        "id": "view-in-github",
        "colab_type": "text"
      },
      "source": [
        "<a href=\"https://colab.research.google.com/github/thederpylama/CS315_Algos/blob/main/insertionPoC.ipynb\" target=\"_parent\"><img src=\"https://colab.research.google.com/assets/colab-badge.svg\" alt=\"Open In Colab\"/></a>"
      ]
    },
    {
      "cell_type": "code",
      "execution_count": null,
      "metadata": {
        "id": "tZGwopH4Y7oL"
      },
      "outputs": [],
      "source": [
        "# Template for testing Insertion-Sort on small lists, outputing each intermediate step"
      ]
    },
    {
      "cell_type": "code",
      "source": [
        "import random\n",
        "import math\n",
        "import time"
      ],
      "metadata": {
        "id": "fSME9MywceAq"
      },
      "execution_count": 3,
      "outputs": []
    },
    {
      "cell_type": "code",
      "source": [
        "def insertion(A,print_flag):\n",
        "\n",
        "# For your convenience, here is the psuedocode from the textbook for Insertion-Sort\n",
        "# You can adapt it for this problem, there aren't many changes required\n",
        "# Note that N is defined in a different execution group and doesn't need to be a parameter\n",
        "# Also, it is nice to have a boolean flag controlling whether the intermediate result is printed\n",
        "# The psuedocode is written to be \"in-place,\" so the input list changes\n",
        "  for i in range(1, len(A)):\n",
        "      key = A[i]\n",
        "  # insert A[i] into sorted seq A[1]..A[i-1]\n",
        "      j = i-1\n",
        "      while j>=0 and A[j]>key:\n",
        "        A[j+1] = A[j]\n",
        "        j -= 1\n",
        "      A[j+1] = key"
      ],
      "metadata": {
        "id": "TJZL4jFQZhAp"
      },
      "execution_count": 4,
      "outputs": []
    },
    {
      "cell_type": "code",
      "source": [
        "N=8\n",
        "A = list(range(N))\n",
        "\n",
        "random.shuffle(A)\n",
        "\n",
        "print(A)\n",
        "insertion(A,True)\n",
        "\n",
        "print(A)"
      ],
      "metadata": {
        "colab": {
          "base_uri": "https://localhost:8080/"
        },
        "id": "f1GS3NjwZqmS",
        "outputId": "ee54f053-3c56-4ee1-ee7d-d44409acbce6"
      },
      "execution_count": null,
      "outputs": [
        {
          "output_type": "stream",
          "name": "stdout",
          "text": [
            "[6, 2, 3, 7, 0, 1, 4, 5]\n",
            "[0, 1, 2, 3, 4, 5, 6, 7]\n"
          ]
        }
      ]
    },
    {
      "cell_type": "code",
      "source": [
        "# Ratio test for unsorted list\n",
        "for i in range(4, 12):\n",
        "  N = int(math.pow(2, i))\n",
        "  A = list(range(N))\n",
        "\n",
        "  random.shuffle(A)\n",
        "\n",
        "  # print(A)\n",
        "  # Timing the run\n",
        "  start = time.time()\n",
        "  insertion(A,False)\n",
        "  end = time.time()\n",
        "\n",
        "  ratio=(end-start)/(math.pow(N, 2))\n",
        "  print(N,end-start,ratio)\n",
        "  # print(A)"
      ],
      "metadata": {
        "id": "uJRObTh_4xdj",
        "outputId": "22060824-53bd-4e99-83a9-03af0fceddcc",
        "colab": {
          "base_uri": "https://localhost:8080/"
        }
      },
      "execution_count": 7,
      "outputs": [
        {
          "output_type": "stream",
          "name": "stdout",
          "text": [
            "16 2.765655517578125e-05 1.0803341865539551e-07\n",
            "32 1.6927719116210938e-05 1.6530975699424744e-08\n",
            "64 7.62939453125e-05 1.862645149230957e-08\n",
            "128 0.00027680397033691406 1.6894773580133915e-08\n",
            "256 0.0011301040649414062 1.724401954561472e-08\n",
            "512 0.0053005218505859375 2.021988620981574e-08\n",
            "1024 0.025236129760742188 2.4067048798315227e-08\n",
            "2048 0.19265317916870117 4.593209723680047e-08\n"
          ]
        }
      ]
    },
    {
      "cell_type": "code",
      "source": [
        "# Ratio test for sorted list\n",
        "for i in range(4, 12):\n",
        "  N = int(math.pow(2, i))\n",
        "  A = list(range(N))\n",
        "\n",
        "  # random.shuffle(A)\n",
        "\n",
        "  # print(A)\n",
        "  start = time.time()\n",
        "  insertion(A,False)\n",
        "  end = time.time()\n",
        "  ratio=(end-start)/(math.pow(N, 2))\n",
        "  print(N,end-start,ratio)\n",
        "  # print(A)"
      ],
      "metadata": {
        "id": "t5spHRhZ_a2B",
        "outputId": "73d680c3-a3a8-498e-c2ed-0262e054cbbc",
        "colab": {
          "base_uri": "https://localhost:8080/"
        }
      },
      "execution_count": 8,
      "outputs": [
        {
          "output_type": "stream",
          "name": "stdout",
          "text": [
            "16 4.291534423828125e-06 1.6763806343078613e-08\n",
            "32 5.7220458984375e-06 5.587935447692871e-09\n",
            "64 5.4836273193359375e-06 1.3387762010097504e-09\n",
            "128 1.0013580322265625e-05 6.111804395914078e-10\n",
            "256 1.9311904907226562e-05 2.9467628337442875e-10\n",
            "512 5.078315734863281e-05 1.9372237147763371e-10\n",
            "1024 0.00011324882507324219 1.0800249583553523e-10\n",
            "2048 0.0002689361572265625 6.411937647499144e-11\n"
          ]
        }
      ]
    }
  ]
}