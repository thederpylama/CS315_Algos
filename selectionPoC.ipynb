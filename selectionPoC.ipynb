{
  "nbformat": 4,
  "nbformat_minor": 0,
  "metadata": {
    "colab": {
      "provenance": [],
      "include_colab_link": true
    },
    "kernelspec": {
      "name": "python3",
      "display_name": "Python 3"
    },
    "language_info": {
      "name": "python"
    }
  },
  "cells": [
    {
      "cell_type": "markdown",
      "metadata": {
        "id": "view-in-github",
        "colab_type": "text"
      },
      "source": [
        "<a href=\"https://colab.research.google.com/github/thederpylama/CS315_Algos/blob/main/selectionPoC.ipynb\" target=\"_parent\"><img src=\"https://colab.research.google.com/assets/colab-badge.svg\" alt=\"Open In Colab\"/></a>"
      ]
    },
    {
      "cell_type": "code",
      "execution_count": null,
      "metadata": {
        "id": "tZGwopH4Y7oL"
      },
      "outputs": [],
      "source": [
        "# Template for testing Selection Sort on small lists, outputing each intermediate step"
      ]
    },
    {
      "cell_type": "code",
      "source": [
        "import random\n",
        "import math\n",
        "import time"
      ],
      "metadata": {
        "id": "fSME9MywceAq"
      },
      "execution_count": 4,
      "outputs": []
    },
    {
      "cell_type": "code",
      "source": [
        "def selection(A,print_flag):\n",
        "  n = len(A)\n",
        "  for i in range(n-1):\n",
        "    smallest = i\n",
        "    for j in range(i+1, n):\n",
        "      if A[smallest] > A[j]:\n",
        "        smallest = j\n",
        "    c = A[smallest]\n",
        "    A[smallest] = A[i]\n",
        "    A[i] = c\n",
        "\n",
        "\n",
        "\n",
        "# for your convenience, the psuedocode from class is provided, and note that you don't really need line 1, you can handle that in the outer for loop statement\n",
        "#n = length[A]\n",
        "#for i=1 to n-1:\n",
        "#   smallest = i\n",
        "#   for j=i+1 to n:\n",
        "#      if A[smallest] > A[j]\n",
        "#         then smallest = j\n",
        "#   Swap A[i] with A[smallest]"
      ],
      "metadata": {
        "id": "TJZL4jFQZhAp"
      },
      "execution_count": 2,
      "outputs": []
    },
    {
      "cell_type": "code",
      "source": [
        "N=8\n",
        "A = list(range(N))\n",
        "\n",
        "random.shuffle(A)\n",
        "\n",
        "print(A)\n",
        "selection(A,True)\n",
        "print(A)"
      ],
      "metadata": {
        "id": "f1GS3NjwZqmS",
        "outputId": "fe8d7303-8a51-40bc-c436-5b806affe23c",
        "colab": {
          "base_uri": "https://localhost:8080/"
        }
      },
      "execution_count": 5,
      "outputs": [
        {
          "output_type": "stream",
          "name": "stdout",
          "text": [
            "[3, 6, 7, 0, 4, 2, 1, 5]\n",
            "[0, 1, 2, 3, 4, 5, 6, 7]\n"
          ]
        }
      ]
    },
    {
      "cell_type": "code",
      "source": [
        "for i in range(4, 14):\n",
        "  N = int(math.pow(2, i))\n",
        "  A = list(range(N))\n",
        "\n",
        "  random.shuffle(A)\n",
        "\n",
        "  # print(A)\n",
        "  start = time.time()\n",
        "  selection(A,True)\n",
        "  end = time.time()\n",
        "  ratio=(end-start)/(N*math.log(N,2))\n",
        "  print(N,end-start,ratio)\n",
        "  # print(A)"
      ],
      "metadata": {
        "colab": {
          "base_uri": "https://localhost:8080/"
        },
        "id": "DYMHU8z88YJS",
        "outputId": "4de99517-6b8a-4a86-ad49-b8e89d016677"
      },
      "execution_count": 15,
      "outputs": [
        {
          "output_type": "stream",
          "name": "stdout",
          "text": [
            "16 1.5974044799804688e-05 2.4959444999694824e-07\n",
            "32 4.220008850097656e-05 2.637505531311035e-07\n",
            "64 0.00015044212341308594 3.917763630549113e-07\n",
            "128 0.0004899501800537109 5.468193973813738e-07\n",
            "256 0.0025136470794677734 1.2273667380213737e-06\n",
            "512 0.0134124755859375 2.9106934865315757e-06\n",
            "1024 0.04805421829223633 4.692794755101204e-06\n",
            "2048 0.1932048797607422 8.576210926879536e-06\n",
            "4096 0.7637157440185547 1.5537836588919163e-05\n",
            "8192 1.9253134727478027 1.8078739790675732e-05\n"
          ]
        }
      ]
    },
    {
      "cell_type": "code",
      "source": [
        "for i in range(4, 14):\n",
        "  N = int(math.pow(2, i))\n",
        "  A = list(range(N))\n",
        "\n",
        "  # random.shuffle(A)\n",
        "\n",
        "  # print(A)\n",
        "  start = time.time()\n",
        "  selection(A,True)\n",
        "  end = time.time()\n",
        "  ratio=(end-start)/(N*math.log(N,2))\n",
        "  print(N,end-start,ratio)\n",
        "  # print(A)"
      ],
      "metadata": {
        "colab": {
          "base_uri": "https://localhost:8080/"
        },
        "id": "-G48Aeki_S1J",
        "outputId": "3c6705f9-765c-4ffd-b3b5-f39deff69bfc"
      },
      "execution_count": 16,
      "outputs": [
        {
          "output_type": "stream",
          "name": "stdout",
          "text": [
            "16 1.0728836059570312e-05 1.6763806343078613e-07\n",
            "32 2.384185791015625e-05 1.4901161193847656e-07\n",
            "64 0.00010204315185546875 2.657373746236165e-07\n",
            "128 0.0002942085266113281 3.283577305930001e-07\n",
            "256 0.0011544227600097656 5.636829882860184e-07\n",
            "512 0.00656890869140625 1.4255444208780925e-06\n",
            "1024 0.029326915740966797 2.863956615328789e-06\n",
            "2048 0.10362648963928223 4.599897444925525e-06\n",
            "4096 0.42521190643310547 8.650958382834991e-06\n",
            "8192 1.7863688468933105 1.6774046413887005e-05\n"
          ]
        }
      ]
    }
  ]
}