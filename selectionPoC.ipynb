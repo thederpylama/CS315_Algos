{
  "nbformat": 4,
  "nbformat_minor": 0,
  "metadata": {
    "colab": {
      "provenance": [],
      "include_colab_link": true
    },
    "kernelspec": {
      "name": "python3",
      "display_name": "Python 3"
    },
    "language_info": {
      "name": "python"
    }
  },
  "cells": [
    {
      "cell_type": "markdown",
      "metadata": {
        "id": "view-in-github",
        "colab_type": "text"
      },
      "source": [
        "<a href=\"https://colab.research.google.com/github/thederpylama/CS315_Algos/blob/main/selectionPoC.ipynb\" target=\"_parent\"><img src=\"https://colab.research.google.com/assets/colab-badge.svg\" alt=\"Open In Colab\"/></a>"
      ]
    },
    {
      "cell_type": "code",
      "execution_count": null,
      "metadata": {
        "id": "tZGwopH4Y7oL"
      },
      "outputs": [],
      "source": [
        "# Template for testing Selection Sort on small lists, outputing each intermediate step"
      ]
    },
    {
      "cell_type": "code",
      "source": [
        "import random\n",
        "import math\n",
        "import time"
      ],
      "metadata": {
        "id": "fSME9MywceAq"
      },
      "execution_count": 2,
      "outputs": []
    },
    {
      "cell_type": "code",
      "source": [
        "def selection(A,print_flag):\n",
        "  n = len(A)\n",
        "  for i in range(n-1):\n",
        "    smallest = i\n",
        "    for j in range(i+1, n):\n",
        "      if A[smallest] > A[j]:\n",
        "        smallest = j\n",
        "    c = A[smallest]\n",
        "    A[smallest] = A[i]\n",
        "    A[i] = c\n",
        "\n",
        "\n",
        "\n",
        "# for your convenience, the psuedocode from class is provided, and note that you don't really need line 1, you can handle that in the outer for loop statement\n",
        "#n = length[A]\n",
        "#for i=1 to n-1:\n",
        "#   smallest = i\n",
        "#   for j=i+1 to n:\n",
        "#      if A[smallest] > A[j]\n",
        "#         then smallest = j\n",
        "#   Swap A[i] with A[smallest]"
      ],
      "metadata": {
        "id": "TJZL4jFQZhAp"
      },
      "execution_count": 4,
      "outputs": []
    },
    {
      "cell_type": "code",
      "source": [
        "N=8\n",
        "A = list(range(N))\n",
        "\n",
        "random.shuffle(A)\n",
        "\n",
        "print(A)\n",
        "selection(A,True)\n",
        "print(A)"
      ],
      "metadata": {
        "id": "f1GS3NjwZqmS",
        "outputId": "fe8d7303-8a51-40bc-c436-5b806affe23c",
        "colab": {
          "base_uri": "https://localhost:8080/"
        }
      },
      "execution_count": null,
      "outputs": [
        {
          "output_type": "stream",
          "name": "stdout",
          "text": [
            "[3, 6, 7, 0, 4, 2, 1, 5]\n",
            "[0, 1, 2, 3, 4, 5, 6, 7]\n"
          ]
        }
      ]
    },
    {
      "cell_type": "code",
      "source": [
        "# Ratio test for unsorted lists\n",
        "for i in range(4, 14):\n",
        "  N = int(math.pow(2, i))\n",
        "  A = list(range(N))\n",
        "\n",
        "  random.shuffle(A)\n",
        "\n",
        "  # print(A)\n",
        "  start = time.time()\n",
        "  selection(A,True)\n",
        "  end = time.time()\n",
        "  ratio=(end-start)/(math.pow(N,2))\n",
        "  print(N,end-start,ratio)\n",
        "  # print(A)"
      ],
      "metadata": {
        "colab": {
          "base_uri": "https://localhost:8080/"
        },
        "id": "DYMHU8z88YJS",
        "outputId": "f3310389-e447-4a71-f817-8513e621d4d7"
      },
      "execution_count": 5,
      "outputs": [
        {
          "output_type": "stream",
          "name": "stdout",
          "text": [
            "16 1.1205673217773438e-05 4.377216100692749e-08\n",
            "32 2.4318695068359375e-05 2.3748725652694702e-08\n",
            "64 7.891654968261719e-05 1.9266735762357712e-08\n",
            "128 0.0002944469451904297 1.7971615307033062e-08\n",
            "256 0.0011088848114013672 1.6920239431783557e-08\n",
            "512 0.009292364120483398 3.544755600159988e-08\n",
            "1024 0.028406381607055664 2.7090436560683884e-08\n",
            "2048 0.1043086051940918 2.4869109438441228e-08\n",
            "4096 0.44492554664611816 2.6519629159338365e-08\n",
            "8192 1.7922446727752686 2.6706526767839023e-08\n"
          ]
        }
      ]
    },
    {
      "cell_type": "code",
      "source": [
        "# Ratio test for sorted lists\n",
        "for i in range(4, 14):\n",
        "  N = int(math.pow(2, i))\n",
        "  A = list(range(N))\n",
        "\n",
        "  # random.shuffle(A)\n",
        "\n",
        "  # print(A)\n",
        "  start = time.time()\n",
        "  selection(A,True)\n",
        "  end = time.time()\n",
        "  ratio=(end-start)/(math.pow(N,2))\n",
        "  print(N,end-start,ratio)\n",
        "  # print(A)"
      ],
      "metadata": {
        "colab": {
          "base_uri": "https://localhost:8080/"
        },
        "id": "-G48Aeki_S1J",
        "outputId": "7e702333-5839-45b5-e375-0c28fc697551"
      },
      "execution_count": 6,
      "outputs": [
        {
          "output_type": "stream",
          "name": "stdout",
          "text": [
            "16 9.059906005859375e-06 3.5390257835388184e-08\n",
            "32 2.574920654296875e-05 2.514570951461792e-08\n",
            "64 7.295608520507812e-05 1.7811544239521027e-08\n",
            "128 0.0003058910369873047 1.867010723799467e-08\n",
            "256 0.0012819766998291016 1.956141204573214e-08\n",
            "512 0.007249116897583008 2.7653186407405883e-08\n",
            "1024 0.029161930084228516 2.7810983738163486e-08\n",
            "2048 0.11407876014709473 2.719849589993828e-08\n",
            "4096 0.43510913848876953 2.5934525638149353e-08\n",
            "8192 2.2693545818328857 3.381601842988857e-08\n"
          ]
        }
      ]
    }
  ]
}