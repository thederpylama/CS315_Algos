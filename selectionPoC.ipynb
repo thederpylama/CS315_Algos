{
  "nbformat": 4,
  "nbformat_minor": 0,
  "metadata": {
    "colab": {
      "provenance": [],
      "authorship_tag": "ABX9TyNnbK9RYlS0Bw1uwUeaJhGA",
      "include_colab_link": true
    },
    "kernelspec": {
      "name": "python3",
      "display_name": "Python 3"
    },
    "language_info": {
      "name": "python"
    }
  },
  "cells": [
    {
      "cell_type": "markdown",
      "metadata": {
        "id": "view-in-github",
        "colab_type": "text"
      },
      "source": [
        "<a href=\"https://colab.research.google.com/github/krusegw/cs315/blob/main/selectionPoC.ipynb\" target=\"_parent\"><img src=\"https://colab.research.google.com/assets/colab-badge.svg\" alt=\"Open In Colab\"/></a>"
      ]
    },
    {
      "cell_type": "code",
      "execution_count": null,
      "metadata": {
        "id": "tZGwopH4Y7oL"
      },
      "outputs": [],
      "source": [
        "# Template for testing Selection Sort on small lists, outputing each intermediate step"
      ]
    },
    {
      "cell_type": "code",
      "source": [
        "import random"
      ],
      "metadata": {
        "id": "fSME9MywceAq"
      },
      "execution_count": null,
      "outputs": []
    },
    {
      "cell_type": "code",
      "source": [
        "def selection(A,print_flag):\n",
        "\n",
        "\n",
        "# for your convenience, the psuedocode from class is provided, and note that you don't really need line 1, you can handle that in the outer for loop statement\n",
        "#n = length[A]\n",
        "#for i=1 to n-1:\n",
        "#   smallest = i\n",
        "#   for j=i+1 to n:\n",
        "#      if A[smallest] > A[j]\n",
        "#         then smallest = j\n",
        "#   Swap A[i] with A[smallest]"
      ],
      "metadata": {
        "id": "TJZL4jFQZhAp"
      },
      "execution_count": null,
      "outputs": []
    },
    {
      "cell_type": "code",
      "source": [
        "N=8\n",
        "A = list(range(N))\n",
        "\n",
        "random.shuffle(A)\n",
        "\n",
        "print(A)\n",
        "selection(A,True)\n",
        "print(A)"
      ],
      "metadata": {
        "id": "f1GS3NjwZqmS"
      },
      "execution_count": null,
      "outputs": []
    }
  ]
}